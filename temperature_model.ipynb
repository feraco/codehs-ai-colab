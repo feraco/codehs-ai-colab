{
  "nbformat": 4,
  "nbformat_minor": 0,
  "metadata": {
    "colab": {
      "provenance": [],
      "toc_visible": true
    },
    "kernelspec": {
      "name": "python3",
      "display_name": "Python 3"
    },
    "language_info": {
      "name": "python"
    }
  },
  "cells": [
    {
      "cell_type": "markdown",
      "source": [
        "# <img src=\"https://codehs.com/uploads/621e93dcea42ef17cb8c48aaceef5b90\" width=\"150\"> Temperature Conversion in TensorFlow\n",
        "\n",
        "\n",
        "\n"
      ],
      "metadata": {
        "id": "xBm1YJxHbUJU"
      }
    },
    {
      "cell_type": "markdown",
      "source": [
        "# Getting Started\n",
        "\n",
        "Welcome to the Temperature Model Colab. A colab is an interactive notebook that allows you to run and edit the code. Everything on this page is editable and you can save your own version of this notebook to your Google drive.\n",
        "\n",
        "In this notebook, you will take a look at writing a machine code to calculate temperature. Remember, the formula for temperature is:\n",
        "\n",
        "$$ °F = 1.8 \\times °C + 32 $$\n",
        "\n",
        "Even though we know the formula, the computer doesn't. The purpose of the model is to have the computer learn the formula by transforming the input and comparing it to the expected output."
      ],
      "metadata": {
        "id": "Bf9jqPUnMQ0C"
      }
    },
    {
      "cell_type": "markdown",
      "source": [
        "\n",
        "### Watch The Video For This Section\n",
        "\n",
        "Click Watch on YouTube to expand."
      ],
      "metadata": {
        "id": "WRDMv13ZIFMo"
      }
    },
    {
      "cell_type": "code",
      "source": [
        "from IPython.display import YouTubeVideo\n",
        "YouTubeVideo('V1sJm__g1B0')"
      ],
      "metadata": {
        "id": "d02OKHkyIE-Z",
        "colab": {
          "base_uri": "https://localhost:8080/",
          "height": 321
        },
        "outputId": "78efc033-0fd2-4579-8eb8-0da489827b78"
      },
      "execution_count": null,
      "outputs": [
        {
          "output_type": "execute_result",
          "data": {
            "text/plain": [
              "<IPython.lib.display.YouTubeVideo at 0x7f06a8a10100>"
            ],
            "text/html": [
              "\n",
              "        <iframe\n",
              "            width=\"400\"\n",
              "            height=\"300\"\n",
              "            src=\"https://www.youtube.com/embed/V1sJm__g1B0\"\n",
              "            frameborder=\"0\"\n",
              "            allowfullscreen\n",
              "            \n",
              "        ></iframe>\n",
              "        "
            ],
            "image/jpeg": "[encoded data removed]"
          },
          "metadata": {},
          "execution_count": 1
        }
      ]
    },
    {
      "cell_type": "markdown",
      "source": [
        "# Update TensorFlow Version\n",
        "\n",
        "To ensure that everyone can successfully run the code in this notebook, we will be installing a specific version of TensorFlow. This approach maintains consistency and minimizes the chances of errors due to version differences, making it easier to follow along with the instructions and examples.\n",
        "\n",
        "The code below first uninstalls the current TensorFlow version (usually the most up-to-date one) and then installs TensorFlow version 2.15."
      ],
      "metadata": {
        "id": "UDd2RGoIyqu2"
      }
    },
    {
      "cell_type": "code",
      "execution_count": null,
      "outputs": [],
      "source": [
        "!pip uninstall tensorflow -y\n",
        "!pip install tensorflow==2.15 -q > /dev/null 2>&1"
      ],
      "metadata": {
        "id": "4Uu_gty7yqu2"
      }
    },
    {
      "cell_type": "markdown",
      "source": [
        "## <img src=\"https://codehs.com/uploads/dc8d8e3a41aa5f3226b3a5a0e883108b\" width=\"50\"> Import TensorFlow\n",
        "\n",
        "The first step in your program is to import the TensorFlow library into Python. Hover over the `[ ]` to see the run button and click it. You should get a check mark once that part of the code has run.\n",
        "\n",
        "Often times, this is your starting point and many times you will see all the import statements you need at the start.\n",
        "\n",
        "*Remember, you will get a warning when you go to run the Colab, but it is safe to execute.*"
      ],
      "metadata": {
        "id": "zn_kcb3SYCEs"
      }
    },
    {
      "cell_type": "code",
      "execution_count": null,
      "metadata": {
        "id": "zGco5QF2L9ZJ"
      },
      "outputs": [],
      "source": [
        "import tensorflow as tf"
      ]
    },
    {
      "cell_type": "markdown",
      "source": [
        "## <img src=\"https://codehs.com/uploads/dc8d8e3a41aa5f3226b3a5a0e883108b\" width=\"50\"> Set Up Training Data\n",
        "Next, we need to create two variables for the input and output data to use to train the model.\n",
        "\n",
        "For now, let's use 5 different input and output values. These values are stored in a Python list and will be fed into the model directly.\n",
        "\n",
        "\n",
        "Later, you will experiment with adding additional values."
      ],
      "metadata": {
        "id": "EA-EKz6YMgFo"
      }
    },
    {
      "cell_type": "code",
      "source": [
        "celsius_input = [-40, 0, 15, 22, 100]\n",
        "fahren_output = [-40, 32, 59, 72, 212]"
      ],
      "metadata": {
        "id": "UTcZHsX5M4QN"
      },
      "execution_count": null,
      "outputs": []
    },
    {
      "cell_type": "markdown",
      "source": [
        "# <img src=\"https://codehs.com/uploads/b3ed72f9d4f6fced3550163f4b1617de\" width=\"50\"> Creating the TensorFlow Model\n",
        "\n",
        "The model we use is limited to one input (Celsius temperature) and one output (Fahrenheit temperature), but the number of hidden layers and nodes can be altered. The more complex the model is, the more nodes and layers you will want to use. Since we know that the temperature model is very simple and can be modeled with just one node, let's start there.\n",
        "\n",
        "<img src=\"https://codehs.com/uploads/0f23a241373237aed063d0b5d8573036\" width=\"300\">\n",
        "\n",
        "\n",
        "In the model below, the single input is expressed with the `input_shape=[1]` parameter, and the single node is expressed with the `units=1` parameter."
      ],
      "metadata": {
        "id": "VflzfXORN7CD"
      }
    },
    {
      "cell_type": "code",
      "source": [
        "model = tf.keras.Sequential([\n",
        "    tf.keras.layers.Dense(units=1, input_shape=[1])\n",
        "    ])"
      ],
      "metadata": {
        "id": "spVQRItgO3Rg"
      },
      "execution_count": null,
      "outputs": []
    },
    {
      "cell_type": "markdown",
      "source": [
        "## <img src=\"https://codehs.com/uploads/b3ed72f9d4f6fced3550163f4b1617de\" width=\"50\"> Compiling and Running the Model\n",
        "\n",
        "Next, you can compile and run the model. The compile command set the parameters for the model. As mentioned earlier, there are different options here, but we will not be exploring them at this time.\n",
        "\n",
        "The model is actually built and fitted to the data with the `model.fit` command. Notice that the parameters of this command take the input, output, and number of epochs, along with the verbose command to specify how much to print to the screen.\n",
        "\n",
        "\n",
        "`celsius_input` - This is the model input values.<br>\n",
        "`fahren_output` - This is the model output values.<br>\n",
        "`epochs=150` - The model will run through the data 150 times. After each pass, it will update the weights and bias values to fit the model better.<br>\n",
        "`verbose=False` - This will suppress any output as the model builds. This command is option, but makes the screen clear<br>\n",
        "\n",
        "\n",
        "This model output is assigned to the `history` variable. This will allow you to do some analysis on the fit of the model.\n",
        "\n",
        "## <img src=\"https://codehs.com/uploads/dc8d8e3a41aa5f3226b3a5a0e883108b\" width=\"50\"> Run the code\n",
        "When you run this code, expect it to take a few seconds to execute as it is running through the data 150 times.\n"
      ],
      "metadata": {
        "id": "lxkZlnwzPW7x"
      }
    },
    {
      "cell_type": "code",
      "source": [
        "model.compile(loss=\"mean_squared_error\", optimizer=tf.keras.optimizers.Adam(0.1))\n",
        "\n",
        "history = model.fit(celsius_input, fahren_output, epochs=500, verbose=False)"
      ],
      "metadata": {
        "id": "d8rR_tFoPh-j"
      },
      "execution_count": null,
      "outputs": []
    },
    {
      "cell_type": "markdown",
      "source": [
        "### Watch The Video For This Section\n",
        "\n",
        "Click Watch on YouTube to expand."
      ],
      "metadata": {
        "id": "gW-QuqjtIQ0K"
      }
    },
    {
      "cell_type": "code",
      "source": [
        "from IPython.display import YouTubeVideo\n",
        "YouTubeVideo('eflRGpQ5KhQ')"
      ],
      "metadata": {
        "colab": {
          "base_uri": "https://localhost:8080/",
          "height": 321
        },
        "id": "e35Sx7n_IQnY",
        "outputId": "74077e91-f749-4831-b5a9-42935c82183d"
      },
      "execution_count": null,
      "outputs": [
        {
          "output_type": "execute_result",
          "data": {
            "text/plain": [
              "<IPython.lib.display.YouTubeVideo at 0x7f061ea7af50>"
            ],
            "text/html": [
              "\n",
              "        <iframe\n",
              "            width=\"400\"\n",
              "            height=\"300\"\n",
              "            src=\"https://www.youtube.com/embed/eflRGpQ5KhQ\"\n",
              "            frameborder=\"0\"\n",
              "            allowfullscreen\n",
              "            \n",
              "        ></iframe>\n",
              "        "
            ],
            "image/jpeg": "[encoded data removed]"
          },
          "metadata": {},
          "execution_count": 6
        }
      ]
    },
    {
      "cell_type": "markdown",
      "source": [
        "## <img src=\"https://codehs.com/uploads/dc8d8e3a41aa5f3226b3a5a0e883108b\" width=\"50\"> Viewing the Results\n",
        "\n",
        "Now that the model has run, you can use it to predict a value."
      ],
      "metadata": {
        "id": "V5Zg5U5bQhqR"
      }
    },
    {
      "cell_type": "code",
      "source": [
        "print(\"Predict for 100 degrees C: \" + str(model.predict([100])))\n",
        "\n",
        "print (\"Model variables weights: \" + str(model.layers[0].get_weights()[0]))\n",
        "print (\"Model bias: \" + str(model.layers[0].get_weights()[1]))"
      ],
      "metadata": {
        "id": "EIvICqc-QhSq"
      },
      "execution_count": null,
      "outputs": []
    },
    {
      "cell_type": "markdown",
      "source": [
        "How did the model do? It probably didn't predict 212 degrees, but depending on your run, it was probably within a few degrees. Each time you run the model, you may get different resuts, you your results may vary.\n",
        "\n",
        "You can also look at the weight and bias to see how close it came to the actual equation.\n",
        "\n",
        "$$  °F = WEIGHT × °C + BIAS $$\n",
        "$$  °F = 1.8 × °C + 32 $$\n",
        "\n",
        "## Model Metrics\n",
        "In upcoming lessons, you will look deeper into model fit metrics, but for now, let's take a look at the loss metrics.\n",
        "\n",
        "Each time an epoch runs, it assigns a value for the weight and bias. The model uses these values with the input value (temperature in celsius) to predict an output value (temperature in fahrenheit). The **loss value** is the difference between the predicted output and the actual output.\n",
        "\n",
        "\n",
        "\n",
        "## <img src=\"https://codehs.com/uploads/dc8d8e3a41aa5f3226b3a5a0e883108b\" width=\"50\"> Import matplotlib and Plot Loss data\n",
        "\n",
        "Run the code below to see a measure of the loss value. Notice how the loss gets smaller over time. This represents the model fitting a little better with each pass."
      ],
      "metadata": {
        "id": "M-QK8QrySTUM"
      }
    },
    {
      "cell_type": "code",
      "source": [
        "import matplotlib.pyplot as plt\n",
        "\n",
        "plt.xlabel('Epoch Number')\n",
        "plt.ylabel(\"Loss Magnitude\")\n",
        "plt.ylim(0,2000)\n",
        "plt.grid()\n",
        "plt.plot(history.history['loss'])\n",
        "plt.show()"
      ],
      "metadata": {
        "id": "UO_LIFEHSS4p"
      },
      "execution_count": null,
      "outputs": []
    },
    {
      "cell_type": "markdown",
      "source": [
        "### Watch The Video For This Section\n",
        "\n",
        "Click Watch on YouTube to expand."
      ],
      "metadata": {
        "id": "aP7tKqexIglk"
      }
    },
    {
      "cell_type": "code",
      "source": [
        "from IPython.display import YouTubeVideo\n",
        "YouTubeVideo('K66zNRfJk7Q')"
      ],
      "metadata": {
        "colab": {
          "base_uri": "https://localhost:8080/",
          "height": 321
        },
        "id": "5cherCsxIga4",
        "outputId": "5030e69f-4696-4c77-da24-82983e1eda78"
      },
      "execution_count": null,
      "outputs": [
        {
          "output_type": "execute_result",
          "data": {
            "text/plain": [
              "<IPython.lib.display.YouTubeVideo at 0x787dca274670>"
            ],
            "text/html": [
              "\n",
              "        <iframe\n",
              "            width=\"400\"\n",
              "            height=\"300\"\n",
              "            src=\"https://www.youtube.com/embed/K66zNRfJk7Q\"\n",
              "            frameborder=\"0\"\n",
              "            allowfullscreen\n",
              "            \n",
              "        ></iframe>\n",
              "        "
            ],
            "image/jpeg": "[encoded data removed]"
          },
          "metadata": {},
          "execution_count": 3
        }
      ]
    },
    {
      "cell_type": "markdown",
      "source": [
        "## <img src=\"https://codehs.com/uploads/91c1007825668faf96413e19a3693bcf\" width=\"50\"> Modifying the Model Parameters\n",
        "\n",
        "\n",
        "The two models below contain the same input and output values as above, but you can make some edits to the model parameters to see the impact.\n",
        "\n",
        "\n",
        "Try each of the following and note the results. You will enter these back in the CodeHS platform.  \n",
        "\n",
        "\n",
        "<img src=\"https://codehs.com/uploads/92cc42365dc1b9ad4a78334f63a60367\" width=\"25\"> For each of these, you will want to compare three things:\n",
        "\n",
        "**The loss graph:** Does the tail flatten out? What is the estimated loss in the end?\n",
        "\n",
        "\n",
        "**Run time:** Notice the time that it takes to run each. Nearly all of the time is calculating the model, so you can compare this to the original model.fit code above.\n",
        "\n",
        "\n",
        "1. Change the number of epochs that you run from 150 to 300.\n",
        "\n",
        "\n",
        "2. Keep the epochs at 150. Add 3 additional input and output values. You can pick any Celsius input value and calculate the Fahrenheit value using the 1.8*C + 32 formula.\n"
      ],
      "metadata": {
        "id": "e5D7uk_vXe-b"
      }
    },
    {
      "cell_type": "code",
      "source": [
        "# First Adjustment\n",
        "celsius_input = [-40, 0, 15, 22, 100]\n",
        "fahren_output = [-40, 32, 59, 72, 212]\n",
        "\n",
        "model = tf.keras.Sequential([\n",
        "    tf.keras.layers.Dense(units=1, input_shape=[1])\n",
        "    ])\n",
        "\n",
        "model.compile(loss=\"mean_squared_error\", optimizer=tf.keras.optimizers.Adam(0.1))\n",
        "# Update the number of Epochs in this model\n",
        "history = model.fit(celsius_input, fahren_output, epochs=150, verbose=False)\n",
        "\n",
        "print(\"Predict for 100 degrees C: \" + str(model.predict([100])))\n",
        "print (\"Model variables weights: \" + str(model.layers[0].get_weights()[0]))\n",
        "print (\"Model bias: \" + str(model.layers[0].get_weights()[1]))\n",
        "\n",
        "plt.xlabel('Epoch Number')\n",
        "plt.ylabel(\"Loss Magnitude\")\n",
        "plt.ylim(0,2000)\n",
        "plt.grid()\n",
        "plt.plot(history.history['loss'])\n",
        "plt.show()\n"
      ],
      "metadata": {
        "id": "oDesex5QW4Vw"
      },
      "execution_count": null,
      "outputs": []
    },
    {
      "cell_type": "code",
      "source": [
        "#Second adjustment\n",
        "\n",
        "# Add 3 additional input/output pairs\n",
        "celsius_input = [-40, 0, 15, 22, 100]\n",
        "fahren_output = [-40, 32, 59, 72, 212]\n",
        "\n",
        "model = tf.keras.Sequential([\n",
        "    tf.keras.layers.Dense(units=1, input_shape=[1])\n",
        "    ])\n",
        "\n",
        "model.compile(loss=\"mean_squared_error\", optimizer=tf.keras.optimizers.Adam(0.1))\n",
        "\n",
        "history = model.fit(celsius_input, fahren_output, epochs=150, verbose=False)\n",
        "\n",
        "print(\"Predict for 100 degrees C: \" + str(model.predict([100])))\n",
        "print (\"Model variables weights: \" + str(model.layers[0].get_weights()[0]))\n",
        "print (\"Model bias: \" + str(model.layers[0].get_weights()[1]))\n",
        "\n",
        "plt.xlabel('Epoch Number')\n",
        "plt.ylabel(\"Loss Magnitude\")\n",
        "plt.ylim(0,2000)\n",
        "plt.grid()\n",
        "plt.plot(history.history['loss'])\n",
        "plt.show()"
      ],
      "metadata": {
        "id": "8lUEM0jabRWC"
      },
      "execution_count": null,
      "outputs": []
    },
    {
      "cell_type": "markdown",
      "source": [
        "### Watch The Video For This Section\n",
        "\n",
        "Click Watch on YouTube to expand."
      ],
      "metadata": {
        "id": "Y98kubONIp-C"
      }
    },
    {
      "cell_type": "code",
      "source": [
        "from IPython.display import YouTubeVideo\n",
        "YouTubeVideo('oTRBdOanN1w')"
      ],
      "metadata": {
        "colab": {
          "base_uri": "https://localhost:8080/",
          "height": 321
        },
        "id": "60Jxbkl4IpyT",
        "outputId": "c48ecc92-3f88-4f38-85d4-85056a31b714"
      },
      "execution_count": null,
      "outputs": [
        {
          "output_type": "execute_result",
          "data": {
            "text/plain": [
              "<IPython.lib.display.YouTubeVideo at 0x787dca233640>"
            ],
            "text/html": [
              "\n",
              "        <iframe\n",
              "            width=\"400\"\n",
              "            height=\"300\"\n",
              "            src=\"https://www.youtube.com/embed/oTRBdOanN1w\"\n",
              "            frameborder=\"0\"\n",
              "            allowfullscreen\n",
              "            \n",
              "        ></iframe>\n",
              "        "
            ],
            "image/jpeg": "[encoded data removed]"
          },
          "metadata": {},
          "execution_count": 4
        }
      ]
    },
    {
      "cell_type": "markdown",
      "source": [
        "## <img src=\"https://codehs.com/uploads/dc8d8e3a41aa5f3226b3a5a0e883108b\" width=\"50\"> <img src=\"https://codehs.com/uploads/b3ed72f9d4f6fced3550163f4b1617de\" width=\"50\"> Modifying the Model\n",
        "\n",
        "For this problem, we said that the model was pretty simple and one node in one layer was enough to generate good results.\n",
        "\n",
        "What if we modified this to have 2 dense layers, each with 3 nodes?\n",
        "\n",
        "The model layers would be something like this:\n",
        "```\n",
        "tf.keras.layers.Dense(units=3, input_shape=[1]),\n",
        "tf.keras.layers.Dense(units=3),\n",
        "tf.keras.layers.Dense(units=1)\n",
        "```\n",
        "\n",
        "Notice the first and second layers each have `units=3`. This represents the 3 nodes in the dense layers. The last layer still only has `units=1` because the final output needs to come down to one number. You can also see that the input_shape for the first layer is still `[1]` and the input hasn't changed.\n",
        "\n",
        "Go ahead and run this model below."
      ],
      "metadata": {
        "id": "2I6oc2SF3Gf1"
      }
    },
    {
      "cell_type": "code",
      "source": [
        "celsius_input = [-40, 0, 15, 22, 100]\n",
        "fahren_output = [-40, 32, 59, 72, 212]\n",
        "\n",
        "model = tf.keras.Sequential([\n",
        "    tf.keras.layers.Dense(units=3, input_shape=[1]),\n",
        "    tf.keras.layers.Dense(units=3),\n",
        "    tf.keras.layers.Dense(units=1)\n",
        "    ])\n",
        "\n",
        "model.compile(loss=\"mean_squared_error\", optimizer=tf.keras.optimizers.Adam(0.1))\n",
        "\n",
        "history = model.fit(celsius_input, fahren_output, epochs=150, verbose=False)\n",
        "\n",
        "print(\"Predict for 100 degrees C: \" + str(model.predict([100])))\n",
        "\n",
        "plt.xlabel('Epoch Number')\n",
        "plt.ylabel(\"Loss Magnitude\")\n",
        "plt.ylim(0,2000)\n",
        "plt.grid()\n",
        "plt.plot(history.history['loss'])\n",
        "plt.show()"
      ],
      "metadata": {
        "id": "oojKCe-j4IzC"
      },
      "execution_count": null,
      "outputs": []
    },
    {
      "cell_type": "markdown",
      "source": [
        "Notice that the model predicted about the same, but with a lot more complexity. When creating models, you want to keep your model as simple as possible, and that will be determined by your dataset.\n",
        "\n",
        "\n",
        "## <img src=\"https://codehs.com/uploads/91c1007825668faf96413e19a3693bcf\" width=\"50\"> Your Turn\n",
        "\n",
        "\n",
        "Now it is your turn to create a model. Use what you have learned here to modify the model in a way that you think will run efficiently and predict well.\n",
        "\n",
        "\n",
        "The starter code below has most of what you need, but you will need to create the model and outline the parameters to fit the model. Feel free to copy and paste lines of code from above!\n",
        "\n",
        "\n",
        "When you are done, you will answer questions about this model in the CodeHS editor.\n",
        "\n",
        "\n",
        "Remember to save a copy of this notebook on your Google Drive in case you need to come back to it in the future!"
      ],
      "metadata": {
        "id": "qIRGFz8m4doD"
      }
    },
    {
      "cell_type": "code",
      "source": [
        "# Add additional training data here, if needed\n",
        "celsius_input = [-40, 0, 15, 22, 100]\n",
        "fahren_output = [-40, 32, 59, 72, 212]\n",
        "\n",
        "# Define the layers of your model here\n",
        "# How many do you need?\n",
        "model = tf.keras.Sequential([\n",
        "\n",
        "\n",
        "    ])\n",
        "\n",
        "model.compile(loss=\"mean_squared_error\", optimizer=tf.keras.optimizers.Adam(0.1))\n",
        "\n",
        "# Be sure to specify the number of epochs to use\n",
        "history = model.fit(celsius_input, fahren_output, epochs=??, verbose=False)\n",
        "\n",
        "print(\"Predict for 100 degrees C: \" + str(model.predict([100])))\n",
        "\n",
        "plt.xlabel('Epoch Number')\n",
        "plt.ylabel(\"Loss Magnitude\")\n",
        "plt.ylim(0,2000)\n",
        "plt.grid()\n",
        "plt.plot(history.history['loss'])\n",
        "plt.show()"
      ],
      "metadata": {
        "id": "g2GY8Mhb5erG"
      },
      "execution_count": null,
      "outputs": []
    }
  ]
}