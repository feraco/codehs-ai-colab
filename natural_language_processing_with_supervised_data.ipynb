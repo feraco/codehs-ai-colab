{
  "nbformat": 4,
  "nbformat_minor": 0,
  "metadata": {
    "colab": {
      "provenance": [],
      "gpuType": "T4"
    },
    "kernelspec": {
      "name": "python3",
      "display_name": "Python 3"
    },
    "language_info": {
      "name": "python"
    },
    "accelerator": "GPU"
  },
  "cells": [
    {
      "cell_type": "markdown",
      "source": [
        "# <img src=\"https://codehs.com/uploads/621e93dcea42ef17cb8c48aaceef5b90\" width=\"150\"> Natural Language Processing with Supervised Data\n"
      ],
      "metadata": {
        "id": "PjlOrAqSDnAx"
      }
    },
    {
      "cell_type": "markdown",
      "source": [
        "Before getting started, make sure you set the Runtime type to **T4 GPU** if it is not already. Do this by selecting the *Change Runtime Type* option under the *Runtime* menu above.\n",
        "\n",
        "Using a runtime with a GPU will significantly improve the runtime performance for this Colab. As models get more complex, the runtime increases significantly."
      ],
      "metadata": {
        "id": "FuV18NEb4PCV"
      }
    },
    {
      "cell_type": "markdown",
      "source": [
        "### Watch The Video For This Section\n",
        "\n",
        "Click Watch on YouTube to expand."
      ],
      "metadata": {
        "id": "NclyJzjPnmVL"
      }
    },
    {
      "cell_type": "code",
      "source": [
        "from IPython.display import YouTubeVideo\n",
        "YouTubeVideo('UcgsMrhEQe8')"
      ],
      "metadata": {
        "colab": {
          "base_uri": "https://localhost:8080/",
          "height": 321
        },
        "id": "P0mdy5fCnmIH",
        "outputId": "f67af50d-d025-4e14-8211-d5e054d133b9"
      },
      "execution_count": null,
      "outputs": [
        {
          "output_type": "execute_result",
          "data": {
            "text/plain": [
              "<IPython.lib.display.YouTubeVideo at 0x7ef1f9c4c700>"
            ],
            "text/html": [
              "\n",
              "        <iframe\n",
              "            width=\"400\"\n",
              "            height=\"300\"\n",
              "            src=\"https://www.youtube.com/embed/UcgsMrhEQe8\"\n",
              "            frameborder=\"0\"\n",
              "            allowfullscreen\n",
              "            \n",
              "        ></iframe>\n",
              "        "
            ],
            "image/jpeg": "[encoded data removed]"
          },
          "metadata": {},
          "execution_count": 1
        }
      ]
    },
    {
      "cell_type": "markdown",
      "source": [
        "##Background\n",
        "\n",
        "In a previous exercise, you saw how you could tokenize text to prepare it for modeling in a Natural Language Processing (NLP) model. In this exercise, you are going to apply this to a **supervised** model to predict whether a review is positive or negative based on the text.\n",
        "\n",
        "A **supervised** model is a model that uses labels to train the data. The models you have created so far have been supervised models because you take an image with a classification label and feed it into the model. The program then uses this to learn and make additional predictions.\n",
        "\n",
        "In this activity, you will do something similar. You will feed in a text and tell the model whether this text is positive or negative. The model will use that to learn to predict whether a new text is positive or negative."
      ],
      "metadata": {
        "id": "Fwvb7gKYDtmI"
      }
    },
    {
      "cell_type": "markdown",
      "source": [
        "## <img src=\"https://codehs.com/uploads/dc8d8e3a41aa5f3226b3a5a0e883108b\" width=\"50\"> Setup code\n",
        "\n",
        "This code is similar to other. One addition here is that you will use the Pandas library for some data processing and we will not be plotting accuracy charts as the model accuracy here will be relatively high for both model and validation data.\n",
        "\n",
        "The data you will be using to build your model are actual Starbuck reviews. Each review was rated out of 5 stars. The 1 and 2 star reviews were used to create negative sentiment reviews and the 4 and 5 start reviews were used to create the positive sentiment reviews. 3 star reviews are a little less conclusive, so they were left out."
      ],
      "metadata": {
        "id": "5jERYYtRHSL_"
      }
    },
    {
      "cell_type": "code",
      "source": [
        "import os\n",
        "import numpy as np\n",
        "import pandas as pd\n",
        "import tensorflow as tf\n",
        "from tensorflow.keras.preprocessing.text import Tokenizer\n",
        "from tensorflow.keras.preprocessing.sequence import pad_sequences\n",
        "\n",
        "\n",
        "_URL = 'https://codehs.com/uploads/4866571ff2d08b3927aad5c48f466a96'\n",
        "zip_dir = tf.keras.utils.get_file('reviews.csv', origin=_URL, extract=True)\n",
        "\n",
        "zip_dir_base = os.path.dirname(zip_dir)\n",
        "print(zip_dir_base)"
      ],
      "metadata": {
        "id": "qrttZIaXHD95"
      },
      "execution_count": null,
      "outputs": []
    },
    {
      "cell_type": "markdown",
      "source": [
        "## <img src=\"https://codehs.com/uploads/dc8d8e3a41aa5f3226b3a5a0e883108b\" width=\"50\"> Import and split data\n",
        "\n",
        "When looking at image data, you would pass TensorFlow a directory with images and the image generator would feed them into the model. With text data, you will create lists and use these to pass into TensorFlow.\n",
        "\n",
        "Instead of starting with a directory of multiple files, you will be reading in a CSV file with the Pandas library. The code below is going to take several steps:\n",
        "\n",
        "1. Read in the CSV file to a dictionary\n",
        "2. Split the dictionary into two lists: the review *text* and the review *sentiment*.\n",
        "3. Clean the data to make sure all reviews are saved as text\n",
        "4. Split the data into training and testing datasets.\n",
        "5. Convert the labels into a Numpy array to use in the model"
      ],
      "metadata": {
        "id": "tuigBekJX1Bt"
      }
    },
    {
      "cell_type": "code",
      "source": [
        "# 1. You can easily read in a CSV file with the Pandas library\n",
        "data_path = os.path.join(zip_dir_base, 'reviews.csv')\n",
        "dataset = pd.read_csv(data_path)\n",
        "\n",
        "# 2. Create two lists: the text and the sentiment\n",
        "sentences = dataset['text'].tolist()\n",
        "labels = dataset['sentiment'].tolist()\n",
        "\n",
        "# 3. Turn all text into strings in case a review was just a number\n",
        "for i in range(len(sentences)):\n",
        "  sentences[i] = str(sentences[i])\n",
        "\n",
        "# 4. Separate out the sentences and labels into training and test sets\n",
        "# You can use 80% for training and the remainder for texting\n",
        "training_size = int(len(sentences) * 0.8)\n",
        "\n",
        "training_sentences = sentences[0:training_size]\n",
        "testing_sentences = sentences[training_size:]\n",
        "training_labels = labels[0:training_size]\n",
        "testing_labels = labels[training_size:]\n",
        "\n",
        "# 5. Make labels into numpy arrays for use with the network later\n",
        "training_labels_final = np.array(training_labels)\n",
        "testing_labels_final = np.array(testing_labels)\n",
        "\n",
        "# Print the length of the testing and training datasets\n",
        "print(\"Training Size: \" + str(len(training_sentences)))\n",
        "print(\"Testing Size: \" + str(len(testing_sentences)))"
      ],
      "metadata": {
        "id": "i7Riz0yg-ukS"
      },
      "execution_count": null,
      "outputs": []
    },
    {
      "cell_type": "markdown",
      "source": [
        "## <img src=\"https://codehs.com/uploads/dc8d8e3a41aa5f3226b3a5a0e883108b\" width=\"50\"> Tokenize the data\n",
        "\n",
        "\n",
        "As you saw in the previous lab, tokenizing the text is a three-step process of transforming words into numbers (`Tokenizer`), creating sequences of numbers from the tokens (`text_to_sequence`), and padding making each the same length (`pad_sequences`).\n",
        "\n",
        "\n",
        "You will notice that this code uses variables defined at the top to populate the tokenizing parameters. This helps make it easy to read, but more importantly, we will be using some of these values in the model.\n",
        "\n",
        "\n",
        "Here is a recap of the parameters you will be using:\n",
        "\n",
        "\n",
        "**vocab_size**: The number of words in the model. When fitting the data the `fit_to_text` will use the most common 1000 words and then use the OOV token for any additional words.\n",
        "\n",
        "\n",
        "**max_length**: The maximum number of words/tokens in each sequence.\n",
        "\n",
        "\n",
        "**padding_type**: For sequences less than the max, post tells it to add padding to the end of the sequence.\n",
        "\n",
        "\n",
        "**trunc_type**: For sequences longer than the max, post tells it to truncate at the end of the sequence.\n",
        "\n",
        "\n",
        "Notice that the testing data is also converted and padded, but it is not used to fit the data to the tokenizer."
      ],
      "metadata": {
        "id": "nwN_UUdG6jUC"
      }
    },
    {
      "cell_type": "code",
      "source": [
        "vocab_size = 1000\n",
        "max_length = 100\n",
        "padding_type = \"post\"\n",
        "trunc_type = \"post\"\n",
        "\n",
        "# Create the tokenizer\n",
        "tokenizer = Tokenizer(num_words = vocab_size, oov_token=\"<OOV>\")\n",
        "# Fit the training sentences to the tokenizer\n",
        "tokenizer.fit_on_texts(training_sentences)\n",
        "word_index = tokenizer.word_index\n",
        "\n",
        "# Convert the sentences to sequences using the tokenizer\n",
        "sequences = tokenizer.texts_to_sequences(training_sentences)\n",
        "\n",
        "# Pad the sequences\n",
        "padded = pad_sequences(sequences,maxlen=max_length, padding=padding_type, truncating=trunc_type)\n",
        "\n",
        "# Convert and pad the test sentences\n",
        "testing_sequences = tokenizer.texts_to_sequences(testing_sentences)\n",
        "testing_padded = pad_sequences(testing_sequences,maxlen=max_length,\n",
        "                               padding=padding_type, truncating=trunc_type)"
      ],
      "metadata": {
        "id": "bKDmlEb36ydl"
      },
      "execution_count": null,
      "outputs": []
    },
    {
      "cell_type": "markdown",
      "source": [
        "## <img src=\"https://codehs.com/uploads/dc8d8e3a41aa5f3226b3a5a0e883108b\" width=\"50\"> Review a Sentence\n",
        "\n",
        "\n",
        "Let's take a look at the data before it is fed into the model. This will print the sentiment, review text, and the padded sequence. Check it out.\n",
        "\n",
        "\n",
        "Remember that the sentiment will be 1 for a positive review and 0 for a negative review.\n",
        "\n",
        "\n",
        "In the sequences, look for a 0 for padding and a 1 for an OOV token. Remember, the vocabulary was 1000, but you will still find some words that are OOV."
      ],
      "metadata": {
        "id": "neWh879F_RQV"
      }
    },
    {
      "cell_type": "code",
      "source": [
        "for i in range(5):\n",
        "  print(\"Sentiment: \" + str(labels[i]))\n",
        "  print(sentences[i])\n",
        "  print(padded[i])\n",
        "  print()"
      ],
      "metadata": {
        "id": "BTUi6gICcLhP"
      },
      "execution_count": null,
      "outputs": []
    },
    {
      "cell_type": "markdown",
      "source": [
        "### Watch The Video For This Section\n",
        "\n",
        "Click Watch on YouTube to expand."
      ],
      "metadata": {
        "id": "e0rVvYiQnv0J"
      }
    },
    {
      "cell_type": "code",
      "source": [
        "from IPython.display import YouTubeVideo\n",
        "YouTubeVideo('F5PQsSJd2p8')"
      ],
      "metadata": {
        "colab": {
          "base_uri": "https://localhost:8080/",
          "height": 321
        },
        "id": "oQ6ZfhxXnvmF",
        "outputId": "5124129e-b14c-47ee-a2e3-96e465de76fd"
      },
      "execution_count": null,
      "outputs": [
        {
          "output_type": "execute_result",
          "data": {
            "text/plain": [
              "<IPython.lib.display.YouTubeVideo at 0x7ef1f9c8a470>"
            ],
            "text/html": [
              "\n",
              "        <iframe\n",
              "            width=\"400\"\n",
              "            height=\"300\"\n",
              "            src=\"https://www.youtube.com/embed/F5PQsSJd2p8\"\n",
              "            frameborder=\"0\"\n",
              "            allowfullscreen\n",
              "            \n",
              "        ></iframe>\n",
              "        "
            ],
            "image/jpeg": "[encoded data removed]"
          },
          "metadata": {},
          "execution_count": 2
        }
      ]
    },
    {
      "cell_type": "markdown",
      "source": [
        "## <img src=\"https://codehs.com/uploads/dc8d8e3a41aa5f3226b3a5a0e883108b\" width=\"50\"> <img src=\"https://codehs.com/uploads/b3ed72f9d4f6fced3550163f4b1617de\" width=\"50\"> Build the model\n",
        "\n",
        "This is a relatively basic model. The embedding layer is used to transform each word from a high-dimension and sparse list, into a low-dimension and dense vector. Put another way, the input data comes in as a bunch of random individual words, but the embedding layer looks for patterns and groups them. Be sure to check out the lesson for more details on this.\n",
        "\n",
        "This model sets the embedding dimensions to 16. Like the number of nodes or the number of filters, this is a lever you can use to tweak the model.\n",
        "\n",
        "The rest of the model is similar to other models. The last node has just 1 node as it will be a zero or one."
      ],
      "metadata": {
        "id": "cUH5RwhpcZAH"
      }
    },
    {
      "cell_type": "code",
      "source": [
        "embedding_dim = 16\n",
        "\n",
        "model = tf.keras.Sequential([\n",
        "    tf.keras.layers.Embedding(vocab_size, embedding_dim, input_length=max_length),\n",
        "    tf.keras.layers.Flatten(),\n",
        "    tf.keras.layers.Dense(6, activation='relu'),\n",
        "    tf.keras.layers.Dense(1, activation='sigmoid')\n",
        "])\n",
        "model.compile(loss='binary_crossentropy',optimizer='adam',metrics=['accuracy'])"
      ],
      "metadata": {
        "id": "qzexXyZoccsG"
      },
      "execution_count": null,
      "outputs": []
    },
    {
      "cell_type": "markdown",
      "source": [
        "## <img src=\"https://codehs.com/uploads/dc8d8e3a41aa5f3226b3a5a0e883108b\" width=\"50\"> Run the model\n",
        "\n",
        "\n",
        "It's time to run the model. This is very similar to the other `fit` commands, but there are a few things to note:\n",
        "\n",
        "\n",
        "* The results are not being saved in a `history` variable because we are not going to graph the results. As the model runs, you will be able to see the accuracy and validation accuracy. You should note they are relatively high.\n",
        "\n",
        "\n",
        "* We need to feed both the text and the labels. You can see this as the first two parameters in the command and also in the validation data.\n",
        "\n",
        "\n",
        "* We only need to run 10 epochs to get decent results."
      ],
      "metadata": {
        "id": "SFq2osn9Bndx"
      }
    },
    {
      "cell_type": "code",
      "source": [
        "num_epochs = 10\n",
        "model.fit(padded,\n",
        "          training_labels_final,\n",
        "          epochs=num_epochs,\n",
        "          validation_data=(testing_padded, testing_labels_final))"
      ],
      "metadata": {
        "id": "Cp_BMCyk-tRx"
      },
      "execution_count": null,
      "outputs": []
    },
    {
      "cell_type": "markdown",
      "source": [
        "### Watch The Video For This Section\n",
        "\n",
        "Click Watch on YouTube to expand."
      ],
      "metadata": {
        "id": "CfBg52dKnyg1"
      }
    },
    {
      "cell_type": "code",
      "source": [
        "from IPython.display import YouTubeVideo\n",
        "YouTubeVideo('_hYCI3vGgxc')"
      ],
      "metadata": {
        "colab": {
          "base_uri": "https://localhost:8080/",
          "height": 321
        },
        "id": "iIz0nxicnySQ",
        "outputId": "f11e5e01-c1e2-4522-d061-c904caddd25b"
      },
      "execution_count": null,
      "outputs": [
        {
          "output_type": "execute_result",
          "data": {
            "text/plain": [
              "<IPython.lib.display.YouTubeVideo at 0x7ef1f9c8a710>"
            ],
            "text/html": [
              "\n",
              "        <iframe\n",
              "            width=\"400\"\n",
              "            height=\"300\"\n",
              "            src=\"https://www.youtube.com/embed/_hYCI3vGgxc\"\n",
              "            frameborder=\"0\"\n",
              "            allowfullscreen\n",
              "            \n",
              "        ></iframe>\n",
              "        "
            ],
            "image/jpeg": "[encoded data removed]"
          },
          "metadata": {},
          "execution_count": 4
        }
      ]
    },
    {
      "cell_type": "markdown",
      "source": [
        "As you can see, the model accuracy is pretty high, but let's see how that translates to actual results.\n",
        "\n",
        "\n",
        "Below is a list of fake reviews. Feel free to add to it, but leave the existing reviews there for now.\n",
        "\n",
        "\n",
        "To feed these into the model, you still need to tokenize and pad them, then you can feed them into the model using the `predict` command.\n",
        "\n",
        "\n",
        "The results will be a decimal number between 0 and 1. The closer to 1, the more positive the model forecasts the review to be.\n",
        "\n",
        "\n",
        "Run the model and see if anything stands out."
      ],
      "metadata": {
        "id": "EXclBH1anLDv"
      }
    },
    {
      "cell_type": "code",
      "source": [
        "# Use the model to predict a review\n",
        "fake_reviews = ['I love this phone', 'I hate spaghetti',\n",
        "                'I do not like spaghetti',\n",
        "                'Everything was cold',\n",
        "                'Everything was hot exactly as I wanted',\n",
        "                'Everything was green',\n",
        "                'the host seated us immediately',\n",
        "                'they gave us free chocolate cake',\n",
        "                'not sure about the wilted flowers on the table',\n",
        "                'only works when I stand on tippy toes',\n",
        "                'does not work when I stand on my head']\n",
        "\n",
        "# Create the sequences\n",
        "sample_sequences = tokenizer.texts_to_sequences(fake_reviews)\n",
        "fakes_padded = pad_sequences(sample_sequences, padding=padding_type, maxlen=max_length)\n",
        "\n",
        "classes = model.predict(fakes_padded)\n",
        "\n",
        "# The closer the class is to 1, the more positive the review is deemed to be\n",
        "for x in range(len(fake_reviews)):\n",
        "  print(fake_reviews[x])\n",
        "  print(classes[x])\n",
        "  print('\\n')\n",
        "\n",
        "# Try adding reviews of your own\n",
        "# Add some negative words (such as \"not\") to the good reviews and see what happens\n",
        "# For example:\n",
        "# they gave us free chocolate cake and did not charge us\n"
      ],
      "metadata": {
        "id": "JWX04I_HnmBz"
      },
      "execution_count": null,
      "outputs": []
    },
    {
      "cell_type": "markdown",
      "source": [
        "Does anything surprise you? Why do you think the model thinks that `I hate spaghetti` is positive, yet `I do not like spaghetti` is negative?\n",
        "\n",
        "Here is a bit of code that might help you answer that question."
      ],
      "metadata": {
        "id": "JFOrlSMxGfJX"
      }
    },
    {
      "cell_type": "code",
      "source": [
        "print(fake_reviews[1])\n",
        "print(fakes_padded[1])\n",
        "\n",
        "print(fake_reviews[2])\n",
        "print(fakes_padded[2])"
      ],
      "metadata": {
        "id": "XVK5eA9p8Cs-"
      },
      "execution_count": null,
      "outputs": []
    },
    {
      "cell_type": "markdown",
      "source": [
        "## <img src=\"https://codehs.com/uploads/91c1007825668faf96413e19a3693bcf\" width=\"50\"> Tweaks To The Model\n",
        "\n",
        "Now it is your turn to make tweaks to the model. Try making these changes to the model:\n",
        "\n",
        "* Set the vocabulary size to 1500\n",
        "* Set the max length to 50\n",
        "* Set the embedding dim to 32\n",
        "* Run for 30 epochs\n"
      ],
      "metadata": {
        "id": "NQrqoawBItCz"
      }
    },
    {
      "cell_type": "code",
      "execution_count": null,
      "metadata": {
        "id": "mx6D0L9SDW1r"
      },
      "outputs": [],
      "source": [
        "vocab_size = ??\n",
        "max_length = ??\n",
        "embedding_dim = ??\n",
        "trunc_type='post'\n",
        "padding_type='post'\n",
        "oov_tok = \"<OOV>\"\n",
        "num_epochs = ??\n",
        "\n",
        "tokenizer = Tokenizer(num_words = vocab_size, oov_token=\"<OOV>\")\n",
        "tokenizer.fit_on_texts(training_sentences)\n",
        "\n",
        "sequences = tokenizer.texts_to_sequences(training_sentences)\n",
        "\n",
        "padded = pad_sequences(sequences,maxlen=max_length, padding=padding_type, truncating=trunc_type)\n",
        "\n",
        "testing_sequences = tokenizer.texts_to_sequences(testing_sentences)\n",
        "testing_padded = pad_sequences(testing_sequences,maxlen=max_length,\n",
        "                               padding=padding_type, truncating=trunc_type)\n",
        "\n",
        "model = tf.keras.Sequential([\n",
        "    tf.keras.layers.Embedding(vocab_size, embedding_dim, input_length=max_length),\n",
        "    tf.keras.layers.Flatten(),\n",
        "    tf.keras.layers.Dense(6, activation='relu'),\n",
        "    tf.keras.layers.Dense(1, activation='sigmoid')\n",
        "])\n",
        "model.compile(loss='binary_crossentropy',optimizer='adam',metrics=['accuracy'])\n",
        "\n",
        "model.fit(padded,\n",
        "          training_labels_final,\n",
        "          epochs=num_epochs,\n",
        "          validation_data=(testing_padded, testing_labels_final))"
      ]
    },
    {
      "cell_type": "markdown",
      "source": [
        "## <img src=\"https://codehs.com/uploads/dc8d8e3a41aa5f3226b3a5a0e883108b\" width=\"50\"> View Model Results\n",
        "\n",
        "You do not need to alter this code. This will display the results of the data augmentation model."
      ],
      "metadata": {
        "id": "WLVYIykxfRTY"
      }
    },
    {
      "cell_type": "code",
      "source": [
        "fake_reviews = ['I love this phone', 'I hate spaghetti',\n",
        "                'I do not like spaghetti',\n",
        "                'Everything was cold',\n",
        "                'Everything was hot exactly as I wanted',\n",
        "                'Everything was green',\n",
        "                'the host seated us immediately',\n",
        "                'they gave us free chocolate cake',\n",
        "                'not sure about the wilted flowers on the table',\n",
        "                'only works when I stand on tippy toes',\n",
        "                'does not work when I stand on my head']\n",
        "\n",
        "sample_sequences = tokenizer.texts_to_sequences(fake_reviews)\n",
        "fakes_padded = pad_sequences(sample_sequences, padding=padding_type, maxlen=max_length)\n",
        "\n",
        "classes = model.predict(fakes_padded)\n",
        "\n",
        "# The closer the class is to 1, the more positive the review is deemed to be\n",
        "for x in range(len(fake_reviews)):\n",
        "  print(fake_reviews[x])\n",
        "  print(classes[x])\n",
        "  print()"
      ],
      "metadata": {
        "id": "X2IKYCpoNDWr"
      },
      "execution_count": null,
      "outputs": []
    },
    {
      "cell_type": "markdown",
      "source": [
        "## <img src=\"https://codehs.com/uploads/92cc42365dc1b9ad4a78334f63a60367\" width=\"50\"> Questions To Answer on CodeHS\n",
        "\n",
        "\n",
        "1. In what ways is the NLP model similar to other models you have worked on?\n",
        "\n",
        "\n",
        "2. In what ways is the model different from other models you have worked on?\n",
        "\n",
        "\n",
        "3. In your own words, describe what the embedding layer is doing in the NLP model.\n",
        "\n",
        "\n",
        "4. After looking at the results from the first model, speculate as to why \"I hate spaghetti\" was considered positive, but \"I do not like spaghetti\" was considered negative. What did printing out the sequence tell you?\n",
        "\n",
        "\n",
        "5. How did the model tweaks change the results? There are a few small, but noticeable differences. Speculate as to why."
      ],
      "metadata": {
        "id": "IuPX1vksf3H8"
      }
    }
  ]
}